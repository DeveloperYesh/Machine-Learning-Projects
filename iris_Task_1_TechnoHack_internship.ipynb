{
  "nbformat": 4,
  "nbformat_minor": 0,
  "metadata": {
    "colab": {
      "provenance": [],
      "authorship_tag": "ABX9TyO+EbCv6AnOKZhaOcggXjIH",
      "include_colab_link": true
    },
    "kernelspec": {
      "name": "python3",
      "display_name": "Python 3"
    },
    "language_info": {
      "name": "python"
    }
  },
  "cells": [
    {
      "cell_type": "markdown",
      "metadata": {
        "id": "view-in-github",
        "colab_type": "text"
      },
      "source": [
        "<a href=\"https://colab.research.google.com/github/DeveloperYesh/Machine-Learning-Projects/blob/main/iris_Task_1_TechnoHack_internship.ipynb\" target=\"_parent\"><img src=\"https://colab.research.google.com/assets/colab-badge.svg\" alt=\"Open In Colab\"/></a>"
      ]
    },
    {
      "cell_type": "code",
      "execution_count": null,
      "metadata": {
        "colab": {
          "base_uri": "https://localhost:8080/"
        },
        "id": "vVMPtxAHo4oJ",
        "outputId": "9fb72e0b-cde5-4baa-96be-55686e8edfd9"
      },
      "outputs": [
        {
          "output_type": "stream",
          "name": "stdout",
          "text": [
            "     SepalLengthCm  SepalWidthCm  PetalLengthCm  PetalWidthCm         Species\n",
            "0              5.1           3.5            1.4           0.2     Iris-setosa\n",
            "1              4.9           3.0            1.4           0.2     Iris-setosa\n",
            "2              4.7           3.2            1.3           0.2     Iris-setosa\n",
            "3              4.6           3.1            1.5           0.2     Iris-setosa\n",
            "4              5.0           3.6            1.4           0.2     Iris-setosa\n",
            "..             ...           ...            ...           ...             ...\n",
            "145            6.7           3.0            5.2           2.3  Iris-virginica\n",
            "146            6.3           2.5            5.0           1.9  Iris-virginica\n",
            "147            6.5           3.0            5.2           2.0  Iris-virginica\n",
            "148            6.2           3.4            5.4           2.3  Iris-virginica\n",
            "149            5.9           3.0            5.1           1.8  Iris-virginica\n",
            "\n",
            "[150 rows x 5 columns]\n",
            "     SepalLengthCm  SepalWidthCm  PetalLengthCm  PetalWidthCm\n",
            "0              5.1           3.5            1.4           0.2\n",
            "1              4.9           3.0            1.4           0.2\n",
            "2              4.7           3.2            1.3           0.2\n",
            "3              4.6           3.1            1.5           0.2\n",
            "4              5.0           3.6            1.4           0.2\n",
            "..             ...           ...            ...           ...\n",
            "145            6.7           3.0            5.2           2.3\n",
            "146            6.3           2.5            5.0           1.9\n",
            "147            6.5           3.0            5.2           2.0\n",
            "148            6.2           3.4            5.4           2.3\n",
            "149            5.9           3.0            5.1           1.8\n",
            "\n",
            "[150 rows x 4 columns]\n",
            "0         Iris-setosa\n",
            "1         Iris-setosa\n",
            "2         Iris-setosa\n",
            "3         Iris-setosa\n",
            "4         Iris-setosa\n",
            "            ...      \n",
            "145    Iris-virginica\n",
            "146    Iris-virginica\n",
            "147    Iris-virginica\n",
            "148    Iris-virginica\n",
            "149    Iris-virginica\n",
            "Name: Species, Length: 150, dtype: object\n"
          ]
        }
      ],
      "source": [
        "# Question no: 1(task-1)\n",
        "#Task 2 : Classify Iris Flowers\n",
        "#Use the famous Iris dataset to build a model that can classify iris flowers based on their sepal and petal dimensions.\n",
        "\n",
        "import pandas as pd\n",
        "# reading the .csv file into my model\n",
        "iris_dataset=pd.read_csv('/iris_task_1.csv')\n",
        "#seperating the attributes into x,y\n",
        "x=iris_dataset.iloc[:,0:4]\n",
        "y=iris_dataset.iloc[:,-1]\n",
        "\n",
        "# displaying the dataset and x,y attributes\n",
        "print(iris_dataset)\n",
        "print(x)\n",
        "print(y)"
      ]
    },
    {
      "cell_type": "code",
      "source": [
        "#using label encoder to convert the categorical values of y attribute into numerical values(0,1,2)\n",
        "from sklearn.preprocessing import LabelEncoder\n",
        "le=LabelEncoder()\n",
        "y=le.fit_transform(y)\n",
        "print(y)"
      ],
      "metadata": {
        "colab": {
          "base_uri": "https://localhost:8080/"
        },
        "id": "HNk44iN1vJQn",
        "outputId": "e2b50f92-a126-4523-d7f6-9724aaa74b7f"
      },
      "execution_count": null,
      "outputs": [
        {
          "output_type": "stream",
          "name": "stdout",
          "text": [
            "[0 0 0 0 0 0 0 0 0 0 0 0 0 0 0 0 0 0 0 0 0 0 0 0 0 0 0 0 0 0 0 0 0 0 0 0 0\n",
            " 0 0 0 0 0 0 0 0 0 0 0 0 0 1 1 1 1 1 1 1 1 1 1 1 1 1 1 1 1 1 1 1 1 1 1 1 1\n",
            " 1 1 1 1 1 1 1 1 1 1 1 1 1 1 1 1 1 1 1 1 1 1 1 1 1 1 2 2 2 2 2 2 2 2 2 2 2\n",
            " 2 2 2 2 2 2 2 2 2 2 2 2 2 2 2 2 2 2 2 2 2 2 2 2 2 2 2 2 2 2 2 2 2 2 2 2 2\n",
            " 2 2]\n"
          ]
        }
      ]
    },
    {
      "cell_type": "code",
      "source": [
        "from sklearn.model_selection import train_test_split\n",
        "xtrain, xtest, ytrain, ytest=train_test_split(x,y,test_size=0.20)\n",
        "print(xtrain) #sample of 'x columns' data given for training -80% of dataset\n",
        "print(xtest) #sample of 'x columns' data given for testing -20% of dataset\n",
        "print(ytrain) #sample of 'y columns' data given for training -80% of dataset\n",
        "print(ytest) #sample of 'y columns' data given for testing -20% of dataset\n",
        "print(xtrain.shape) #number of rows and cols of 'x columns' data given for training\n",
        "print(ytrain.shape) #number of rows and cols of 'y columns' data given for training"
      ],
      "metadata": {
        "colab": {
          "base_uri": "https://localhost:8080/"
        },
        "id": "wucxPhx1wmcG",
        "outputId": "d32e102d-1fab-4fad-ac4c-a7d77ad02a3b"
      },
      "execution_count": null,
      "outputs": [
        {
          "output_type": "stream",
          "name": "stdout",
          "text": [
            "     SepalLengthCm  SepalWidthCm  PetalLengthCm  PetalWidthCm\n",
            "23             5.1           3.3            1.7           0.5\n",
            "105            7.6           3.0            6.6           2.1\n",
            "43             5.0           3.5            1.6           0.6\n",
            "53             5.5           2.3            4.0           1.3\n",
            "126            6.2           2.8            4.8           1.8\n",
            "..             ...           ...            ...           ...\n",
            "121            5.6           2.8            4.9           2.0\n",
            "54             6.5           2.8            4.6           1.5\n",
            "16             5.4           3.9            1.3           0.4\n",
            "74             6.4           2.9            4.3           1.3\n",
            "27             5.2           3.5            1.5           0.2\n",
            "\n",
            "[120 rows x 4 columns]\n",
            "     SepalLengthCm  SepalWidthCm  PetalLengthCm  PetalWidthCm\n",
            "139            6.9           3.1            5.4           2.1\n",
            "82             5.8           2.7            3.9           1.2\n",
            "56             6.3           3.3            4.7           1.6\n",
            "42             4.4           3.2            1.3           0.2\n",
            "63             6.1           2.9            4.7           1.4\n",
            "1              4.9           3.0            1.4           0.2\n",
            "79             5.7           2.6            3.5           1.0\n",
            "85             6.0           3.4            4.5           1.6\n",
            "108            6.7           2.5            5.8           1.8\n",
            "134            6.1           2.6            5.6           1.4\n",
            "116            6.5           3.0            5.5           1.8\n",
            "148            6.2           3.4            5.4           2.3\n",
            "120            6.9           3.2            5.7           2.3\n",
            "22             4.6           3.6            1.0           0.2\n",
            "64             5.6           2.9            3.6           1.3\n",
            "110            6.5           3.2            5.1           2.0\n",
            "18             5.7           3.8            1.7           0.3\n",
            "65             6.7           3.1            4.4           1.4\n",
            "104            6.5           3.0            5.8           2.2\n",
            "58             6.6           2.9            4.6           1.3\n",
            "138            6.0           3.0            4.8           1.8\n",
            "52             6.9           3.1            4.9           1.5\n",
            "99             5.7           2.8            4.1           1.3\n",
            "59             5.2           2.7            3.9           1.4\n",
            "19             5.1           3.8            1.5           0.3\n",
            "70             5.9           3.2            4.8           1.8\n",
            "9              4.9           3.1            1.5           0.1\n",
            "111            6.4           2.7            5.3           1.9\n",
            "66             5.6           3.0            4.5           1.5\n",
            "86             6.7           3.1            4.7           1.5\n",
            "[0 2 0 1 2 0 1 2 1 2 1 0 2 2 2 2 1 1 1 2 0 0 1 1 1 1 2 2 0 0 1 0 1 1 1 1 1\n",
            " 2 1 0 2 1 1 2 0 1 2 0 1 2 0 0 0 0 1 2 2 2 2 2 1 2 2 1 2 2 1 2 0 0 1 0 0 0\n",
            " 2 2 2 1 0 1 0 2 0 0 0 0 0 2 2 1 0 2 0 2 0 0 0 0 0 1 2 1 1 2 0 1 0 0 0 0 2\n",
            " 2 2 0 0 2 1 0 1 0]\n",
            "[2 1 1 0 1 0 1 1 2 2 2 2 2 0 1 2 0 1 2 1 2 1 1 1 0 1 0 2 1 1]\n",
            "(120, 4)\n",
            "(120,)\n"
          ]
        }
      ]
    },
    {
      "cell_type": "code",
      "source": [
        "# using random forest classifier, but we can use other classification algorithms also.\n",
        "from sklearn.ensemble import RandomForestClassifier\n",
        "rfc=RandomForestClassifier()\n",
        "rfc.fit(xtrain,ytrain)\n",
        "pred=rfc.predict(xtest)\n",
        "pred"
      ],
      "metadata": {
        "colab": {
          "base_uri": "https://localhost:8080/"
        },
        "id": "y9p9tPZuxOUC",
        "outputId": "c7616080-bd4d-4a02-9c01-a1e9a4640d28"
      },
      "execution_count": null,
      "outputs": [
        {
          "output_type": "execute_result",
          "data": {
            "text/plain": [
              "array([2, 1, 1, 0, 1, 0, 1, 1, 2, 2, 2, 2, 2, 0, 1, 2, 0, 1, 2, 1, 2, 1,\n",
              "       1, 1, 0, 2, 0, 2, 1, 1])"
            ]
          },
          "metadata": {},
          "execution_count": 12
        }
      ]
    },
    {
      "cell_type": "code",
      "source": [
        "# calculating the accuracy of the Random Forest Classifier model\n",
        "from sklearn.metrics import accuracy_score\n",
        "accuracy=accuracy_score(ytest,pred)*100\n",
        "accuracy"
      ],
      "metadata": {
        "colab": {
          "base_uri": "https://localhost:8080/"
        },
        "id": "TAlmwAXy64R9",
        "outputId": "0b850279-4958-47f1-d2d3-c1a740da63b8"
      },
      "execution_count": null,
      "outputs": [
        {
          "output_type": "execute_result",
          "data": {
            "text/plain": [
              "96.66666666666667"
            ]
          },
          "metadata": {},
          "execution_count": 13
        }
      ]
    },
    {
      "cell_type": "code",
      "source": [],
      "metadata": {
        "id": "n9tOxyox7lxz"
      },
      "execution_count": null,
      "outputs": []
    }
  ]
}